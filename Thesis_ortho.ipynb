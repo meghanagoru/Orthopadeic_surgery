{
  "nbformat": 4,
  "nbformat_minor": 0,
  "metadata": {
    "colab": {
      "provenance": [],
      "authorship_tag": "ABX9TyP5oD76JQzq1OeYN/qhn1ZR",
      "include_colab_link": true
    },
    "kernelspec": {
      "name": "python3",
      "display_name": "Python 3"
    },
    "language_info": {
      "name": "python"
    }
  },
  "cells": [
    {
      "cell_type": "markdown",
      "metadata": {
        "id": "view-in-github",
        "colab_type": "text"
      },
      "source": [
        "<a href=\"https://colab.research.google.com/github/meghanagoru/Orthopaedic_surgery/blob/main/Thesis_ortho.ipynb\" target=\"_parent\"><img src=\"https://colab.research.google.com/assets/colab-badge.svg\" alt=\"Open In Colab\"/></a>"
      ]
    },
    {
      "cell_type": "code",
      "source": [
        "!pip install scikit-survival"
      ],
      "metadata": {
        "id": "o7SLwBp1Xx4l",
        "colab": {
          "base_uri": "https://localhost:8080/"
        },
        "outputId": "ebe32e88-e5ed-486c-835b-766763a0a455"
      },
      "execution_count": null,
      "outputs": [
        {
          "output_type": "stream",
          "name": "stdout",
          "text": [
            "Requirement already satisfied: scikit-survival in /usr/local/lib/python3.10/dist-packages (0.21.0)\n",
            "Requirement already satisfied: ecos in /usr/local/lib/python3.10/dist-packages (from scikit-survival) (2.0.12)\n",
            "Requirement already satisfied: joblib in /usr/local/lib/python3.10/dist-packages (from scikit-survival) (1.3.2)\n",
            "Requirement already satisfied: numexpr in /usr/local/lib/python3.10/dist-packages (from scikit-survival) (2.8.5)\n",
            "Requirement already satisfied: numpy in /usr/local/lib/python3.10/dist-packages (from scikit-survival) (1.23.5)\n",
            "Requirement already satisfied: osqp!=0.6.0,!=0.6.1 in /usr/local/lib/python3.10/dist-packages (from scikit-survival) (0.6.2.post8)\n",
            "Requirement already satisfied: pandas>=1.0.5 in /usr/local/lib/python3.10/dist-packages (from scikit-survival) (1.5.3)\n",
            "Requirement already satisfied: scipy>=1.3.2 in /usr/local/lib/python3.10/dist-packages (from scikit-survival) (1.10.1)\n",
            "Requirement already satisfied: scikit-learn<1.3,>=1.2.0 in /usr/local/lib/python3.10/dist-packages (from scikit-survival) (1.2.2)\n",
            "Requirement already satisfied: qdldl in /usr/local/lib/python3.10/dist-packages (from osqp!=0.6.0,!=0.6.1->scikit-survival) (0.1.7.post0)\n",
            "Requirement already satisfied: python-dateutil>=2.8.1 in /usr/local/lib/python3.10/dist-packages (from pandas>=1.0.5->scikit-survival) (2.8.2)\n",
            "Requirement already satisfied: pytz>=2020.1 in /usr/local/lib/python3.10/dist-packages (from pandas>=1.0.5->scikit-survival) (2023.3)\n",
            "Requirement already satisfied: threadpoolctl>=2.0.0 in /usr/local/lib/python3.10/dist-packages (from scikit-learn<1.3,>=1.2.0->scikit-survival) (3.2.0)\n",
            "Requirement already satisfied: six>=1.5 in /usr/local/lib/python3.10/dist-packages (from python-dateutil>=2.8.1->pandas>=1.0.5->scikit-survival) (1.16.0)\n"
          ]
        }
      ]
    },
    {
      "cell_type": "code",
      "execution_count": null,
      "metadata": {
        "id": "qtImgMcJJzqK"
      },
      "outputs": [],
      "source": [
        "import pandas as pd\n",
        "import numpy as np\n",
        "from sksurv.nonparametric import kaplan_meier_estimator\n",
        "import matplotlib.pyplot as plt"
      ]
    },
    {
      "cell_type": "code",
      "source": [
        "d1 = pd.read_csv('DATA_Femur.csv',encoding = 'unicode_escape')\n",
        "d2 = pd.read_csv('DATA_PF.csv')\n",
        "\n",
        "for column in d1.columns:\n",
        "    if d1[column].dtype == 'int64':\n",
        "        d1[column] = d1[column].fillna(0)  # Fill with 0.0 for float columns\n",
        "    elif d1[column].dtype == 'float64':\n",
        "        d1[column] = d1[column].fillna(0)\n",
        "    elif d1[column].dtype == 'object':\n",
        "        d1[column] = d1[column].fillna('0')\n",
        "\n",
        "for column in d2.columns:\n",
        "    if d2[column].dtype == 'int64':\n",
        "        d2[column] = d2[column].fillna(0)  # Fill with 0.0 for float columns\n",
        "    elif d2[column].dtype == 'float64':\n",
        "        d2[column] = d2[column].fillna(0.0)\n",
        "    elif d2[column].dtype == 'object':\n",
        "        d2[column] = d2[column].fillna('0')\n"
      ],
      "metadata": {
        "id": "nLlBWDkZJ4Zw"
      },
      "execution_count": null,
      "outputs": []
    },
    {
      "cell_type": "code",
      "source": [
        "d1.loc[d1[\"Follow up at 1 year\"] == \"Alive\",\"Survival duration(in months)\"]=12\n",
        "d1['Events'] = d1['Follow up at 1 year'].str.contains('Expired').astype(int)\n",
        "d1"
      ],
      "metadata": {
        "id": "XN6A3Lk1gPGs",
        "colab": {
          "base_uri": "https://localhost:8080/",
          "height": 886
        },
        "outputId": "802a759a-64cd-439e-cc46-e9400b631f12"
      },
      "execution_count": null,
      "outputs": [
        {
          "output_type": "execute_result",
          "data": {
            "text/plain": [
              "     Sl.no   code                   codename    IpNo   HospNo   Age  S   R  \\\n",
              "0        2  S72.0  FRACTURE OF NECK OF FEMUR  164062  2988598   60Y  F  I    \n",
              "1        3  S72.0  FRACTURE OF NECK OF FEMUR  166008  2634755   60Y  M  I    \n",
              "2        6  S72.0  FRACTURE OF NECK OF FEMUR  192822  3040363   60Y  M  I    \n",
              "3        9  S72.0  FRACTURE OF NECK OF FEMUR  218607  3089523   60Y  M  I    \n",
              "4       11  S72.0  FRACTURE OF NECK OF FEMUR  240195  3129638   60Y  M  I    \n",
              "..     ...    ...                        ...     ...      ...   ... ..  ..   \n",
              "415   1125  S72.0  FRACTURE OF NECK OF FEMUR  534243  3610820   92Y  M  I    \n",
              "416   1130  S72.0  FRACTURE OF NECK OF FEMUR  183141  3023795   94Y  M  I    \n",
              "417   1131  S72.0  FRACTURE OF NECK OF FEMUR  206524  3065642   94Y  M  I    \n",
              "418   1137  S72.0  FRACTURE OF NECK OF FEMUR  198239  3050829   96Y  M  I    \n",
              "419   1143  S72.0  FRACTURE OF NECK OF FEMUR  260553  3165616  100Y  F  I    \n",
              "\n",
              "        DisDate    unit Mode of injury Comorbidities  \\\n",
              "0    24/01/2017  ORT001              0             0   \n",
              "1    10/02/2017  ORT003  Slip and fall            DM   \n",
              "2    10/06/2017  ORT001              0             0   \n",
              "3    23/09/2017  ORT004              0             0   \n",
              "4    03/01/2018  ORT005  Slip and fall           HTN   \n",
              "..          ...     ...            ...           ...   \n",
              "415  09/03/2022  ORT002              0             0   \n",
              "416  24/04/2017  ORT005              0             0   \n",
              "417  04/08/2017  ORT005              0             0   \n",
              "418  06/07/2017  ORT005              0             0   \n",
              "419  02/04/2018  ORT005              0             0   \n",
              "\n",
              "     Interval between injury and presentation  \\\n",
              "0                                         0.0   \n",
              "1                                         0.1   \n",
              "2                                         0.0   \n",
              "3                                         0.0   \n",
              "4                                         0.1   \n",
              "..                                        ...   \n",
              "415                                       0.0   \n",
              "416                                       0.0   \n",
              "417                                       0.0   \n",
              "418                                       0.0   \n",
              "419                                       0.0   \n",
              "\n",
              "     Interval between presentation and surgery Morphology  \\\n",
              "0                                          0.0        NOF   \n",
              "1                                          6.0        NOF   \n",
              "2                                          0.0          0   \n",
              "3                                          0.0          0   \n",
              "4                                          6.0        NOF   \n",
              "..                                         ...        ...   \n",
              "415                                        0.0          0   \n",
              "416                                        0.0          0   \n",
              "417                                        0.0          0   \n",
              "418                                        0.0          0   \n",
              "419                                        0.0          0   \n",
              "\n",
              "                  Surgery done    Implant used         Follow up at 1 year  \\\n",
              "0                            0    Not available  ?Periprosthetic fracture    \n",
              "1                          DHS    Not available                      Alive   \n",
              "2                            0                0            Implant failure   \n",
              "3                            0                0       Non union (old case)   \n",
              "4    Bipolar hemiarthroplasty   Not availalable                  Alive FWB   \n",
              "..                         ...              ...                        ...   \n",
              "415                          0                0                          0   \n",
              "416                          0                0                          0   \n",
              "417                          0                0                          0   \n",
              "418                          0                0                          0   \n",
              "419                          0                0                          0   \n",
              "\n",
              "     Survival duration(in months)  Events  \n",
              "0                             0.0       0  \n",
              "1                            12.0       0  \n",
              "2                             0.0       0  \n",
              "3                             0.0       0  \n",
              "4                             0.0       0  \n",
              "..                            ...     ...  \n",
              "415                           0.0       0  \n",
              "416                           0.0       0  \n",
              "417                           0.0       0  \n",
              "418                           0.0       0  \n",
              "419                           0.0       0  \n",
              "\n",
              "[420 rows x 20 columns]"
            ],
            "text/html": [
              "\n",
              "\n",
              "  <div id=\"df-7b076b37-bf1f-498a-9d63-9a1c512fc456\">\n",
              "    <div class=\"colab-df-container\">\n",
              "      <div>\n",
              "<style scoped>\n",
              "    .dataframe tbody tr th:only-of-type {\n",
              "        vertical-align: middle;\n",
              "    }\n",
              "\n",
              "    .dataframe tbody tr th {\n",
              "        vertical-align: top;\n",
              "    }\n",
              "\n",
              "    .dataframe thead th {\n",
              "        text-align: right;\n",
              "    }\n",
              "</style>\n",
              "<table border=\"1\" class=\"dataframe\">\n",
              "  <thead>\n",
              "    <tr style=\"text-align: right;\">\n",
              "      <th></th>\n",
              "      <th>Sl.no</th>\n",
              "      <th>code</th>\n",
              "      <th>codename</th>\n",
              "      <th>IpNo</th>\n",
              "      <th>HospNo</th>\n",
              "      <th>Age</th>\n",
              "      <th>S</th>\n",
              "      <th>R</th>\n",
              "      <th>DisDate</th>\n",
              "      <th>unit</th>\n",
              "      <th>Mode of injury</th>\n",
              "      <th>Comorbidities</th>\n",
              "      <th>Interval between injury and presentation</th>\n",
              "      <th>Interval between presentation and surgery</th>\n",
              "      <th>Morphology</th>\n",
              "      <th>Surgery done</th>\n",
              "      <th>Implant used</th>\n",
              "      <th>Follow up at 1 year</th>\n",
              "      <th>Survival duration(in months)</th>\n",
              "      <th>Events</th>\n",
              "    </tr>\n",
              "  </thead>\n",
              "  <tbody>\n",
              "    <tr>\n",
              "      <th>0</th>\n",
              "      <td>2</td>\n",
              "      <td>S72.0</td>\n",
              "      <td>FRACTURE OF NECK OF FEMUR</td>\n",
              "      <td>164062</td>\n",
              "      <td>2988598</td>\n",
              "      <td>60Y</td>\n",
              "      <td>F</td>\n",
              "      <td>I</td>\n",
              "      <td>24/01/2017</td>\n",
              "      <td>ORT001</td>\n",
              "      <td>0</td>\n",
              "      <td>0</td>\n",
              "      <td>0.0</td>\n",
              "      <td>0.0</td>\n",
              "      <td>NOF</td>\n",
              "      <td>0</td>\n",
              "      <td>Not available</td>\n",
              "      <td>?Periprosthetic fracture</td>\n",
              "      <td>0.0</td>\n",
              "      <td>0</td>\n",
              "    </tr>\n",
              "    <tr>\n",
              "      <th>1</th>\n",
              "      <td>3</td>\n",
              "      <td>S72.0</td>\n",
              "      <td>FRACTURE OF NECK OF FEMUR</td>\n",
              "      <td>166008</td>\n",
              "      <td>2634755</td>\n",
              "      <td>60Y</td>\n",
              "      <td>M</td>\n",
              "      <td>I</td>\n",
              "      <td>10/02/2017</td>\n",
              "      <td>ORT003</td>\n",
              "      <td>Slip and fall</td>\n",
              "      <td>DM</td>\n",
              "      <td>0.1</td>\n",
              "      <td>6.0</td>\n",
              "      <td>NOF</td>\n",
              "      <td>DHS</td>\n",
              "      <td>Not available</td>\n",
              "      <td>Alive</td>\n",
              "      <td>12.0</td>\n",
              "      <td>0</td>\n",
              "    </tr>\n",
              "    <tr>\n",
              "      <th>2</th>\n",
              "      <td>6</td>\n",
              "      <td>S72.0</td>\n",
              "      <td>FRACTURE OF NECK OF FEMUR</td>\n",
              "      <td>192822</td>\n",
              "      <td>3040363</td>\n",
              "      <td>60Y</td>\n",
              "      <td>M</td>\n",
              "      <td>I</td>\n",
              "      <td>10/06/2017</td>\n",
              "      <td>ORT001</td>\n",
              "      <td>0</td>\n",
              "      <td>0</td>\n",
              "      <td>0.0</td>\n",
              "      <td>0.0</td>\n",
              "      <td>0</td>\n",
              "      <td>0</td>\n",
              "      <td>0</td>\n",
              "      <td>Implant failure</td>\n",
              "      <td>0.0</td>\n",
              "      <td>0</td>\n",
              "    </tr>\n",
              "    <tr>\n",
              "      <th>3</th>\n",
              "      <td>9</td>\n",
              "      <td>S72.0</td>\n",
              "      <td>FRACTURE OF NECK OF FEMUR</td>\n",
              "      <td>218607</td>\n",
              "      <td>3089523</td>\n",
              "      <td>60Y</td>\n",
              "      <td>M</td>\n",
              "      <td>I</td>\n",
              "      <td>23/09/2017</td>\n",
              "      <td>ORT004</td>\n",
              "      <td>0</td>\n",
              "      <td>0</td>\n",
              "      <td>0.0</td>\n",
              "      <td>0.0</td>\n",
              "      <td>0</td>\n",
              "      <td>0</td>\n",
              "      <td>0</td>\n",
              "      <td>Non union (old case)</td>\n",
              "      <td>0.0</td>\n",
              "      <td>0</td>\n",
              "    </tr>\n",
              "    <tr>\n",
              "      <th>4</th>\n",
              "      <td>11</td>\n",
              "      <td>S72.0</td>\n",
              "      <td>FRACTURE OF NECK OF FEMUR</td>\n",
              "      <td>240195</td>\n",
              "      <td>3129638</td>\n",
              "      <td>60Y</td>\n",
              "      <td>M</td>\n",
              "      <td>I</td>\n",
              "      <td>03/01/2018</td>\n",
              "      <td>ORT005</td>\n",
              "      <td>Slip and fall</td>\n",
              "      <td>HTN</td>\n",
              "      <td>0.1</td>\n",
              "      <td>6.0</td>\n",
              "      <td>NOF</td>\n",
              "      <td>Bipolar hemiarthroplasty</td>\n",
              "      <td>Not availalable</td>\n",
              "      <td>Alive FWB</td>\n",
              "      <td>0.0</td>\n",
              "      <td>0</td>\n",
              "    </tr>\n",
              "    <tr>\n",
              "      <th>...</th>\n",
              "      <td>...</td>\n",
              "      <td>...</td>\n",
              "      <td>...</td>\n",
              "      <td>...</td>\n",
              "      <td>...</td>\n",
              "      <td>...</td>\n",
              "      <td>...</td>\n",
              "      <td>...</td>\n",
              "      <td>...</td>\n",
              "      <td>...</td>\n",
              "      <td>...</td>\n",
              "      <td>...</td>\n",
              "      <td>...</td>\n",
              "      <td>...</td>\n",
              "      <td>...</td>\n",
              "      <td>...</td>\n",
              "      <td>...</td>\n",
              "      <td>...</td>\n",
              "      <td>...</td>\n",
              "      <td>...</td>\n",
              "    </tr>\n",
              "    <tr>\n",
              "      <th>415</th>\n",
              "      <td>1125</td>\n",
              "      <td>S72.0</td>\n",
              "      <td>FRACTURE OF NECK OF FEMUR</td>\n",
              "      <td>534243</td>\n",
              "      <td>3610820</td>\n",
              "      <td>92Y</td>\n",
              "      <td>M</td>\n",
              "      <td>I</td>\n",
              "      <td>09/03/2022</td>\n",
              "      <td>ORT002</td>\n",
              "      <td>0</td>\n",
              "      <td>0</td>\n",
              "      <td>0.0</td>\n",
              "      <td>0.0</td>\n",
              "      <td>0</td>\n",
              "      <td>0</td>\n",
              "      <td>0</td>\n",
              "      <td>0</td>\n",
              "      <td>0.0</td>\n",
              "      <td>0</td>\n",
              "    </tr>\n",
              "    <tr>\n",
              "      <th>416</th>\n",
              "      <td>1130</td>\n",
              "      <td>S72.0</td>\n",
              "      <td>FRACTURE OF NECK OF FEMUR</td>\n",
              "      <td>183141</td>\n",
              "      <td>3023795</td>\n",
              "      <td>94Y</td>\n",
              "      <td>M</td>\n",
              "      <td>I</td>\n",
              "      <td>24/04/2017</td>\n",
              "      <td>ORT005</td>\n",
              "      <td>0</td>\n",
              "      <td>0</td>\n",
              "      <td>0.0</td>\n",
              "      <td>0.0</td>\n",
              "      <td>0</td>\n",
              "      <td>0</td>\n",
              "      <td>0</td>\n",
              "      <td>0</td>\n",
              "      <td>0.0</td>\n",
              "      <td>0</td>\n",
              "    </tr>\n",
              "    <tr>\n",
              "      <th>417</th>\n",
              "      <td>1131</td>\n",
              "      <td>S72.0</td>\n",
              "      <td>FRACTURE OF NECK OF FEMUR</td>\n",
              "      <td>206524</td>\n",
              "      <td>3065642</td>\n",
              "      <td>94Y</td>\n",
              "      <td>M</td>\n",
              "      <td>I</td>\n",
              "      <td>04/08/2017</td>\n",
              "      <td>ORT005</td>\n",
              "      <td>0</td>\n",
              "      <td>0</td>\n",
              "      <td>0.0</td>\n",
              "      <td>0.0</td>\n",
              "      <td>0</td>\n",
              "      <td>0</td>\n",
              "      <td>0</td>\n",
              "      <td>0</td>\n",
              "      <td>0.0</td>\n",
              "      <td>0</td>\n",
              "    </tr>\n",
              "    <tr>\n",
              "      <th>418</th>\n",
              "      <td>1137</td>\n",
              "      <td>S72.0</td>\n",
              "      <td>FRACTURE OF NECK OF FEMUR</td>\n",
              "      <td>198239</td>\n",
              "      <td>3050829</td>\n",
              "      <td>96Y</td>\n",
              "      <td>M</td>\n",
              "      <td>I</td>\n",
              "      <td>06/07/2017</td>\n",
              "      <td>ORT005</td>\n",
              "      <td>0</td>\n",
              "      <td>0</td>\n",
              "      <td>0.0</td>\n",
              "      <td>0.0</td>\n",
              "      <td>0</td>\n",
              "      <td>0</td>\n",
              "      <td>0</td>\n",
              "      <td>0</td>\n",
              "      <td>0.0</td>\n",
              "      <td>0</td>\n",
              "    </tr>\n",
              "    <tr>\n",
              "      <th>419</th>\n",
              "      <td>1143</td>\n",
              "      <td>S72.0</td>\n",
              "      <td>FRACTURE OF NECK OF FEMUR</td>\n",
              "      <td>260553</td>\n",
              "      <td>3165616</td>\n",
              "      <td>100Y</td>\n",
              "      <td>F</td>\n",
              "      <td>I</td>\n",
              "      <td>02/04/2018</td>\n",
              "      <td>ORT005</td>\n",
              "      <td>0</td>\n",
              "      <td>0</td>\n",
              "      <td>0.0</td>\n",
              "      <td>0.0</td>\n",
              "      <td>0</td>\n",
              "      <td>0</td>\n",
              "      <td>0</td>\n",
              "      <td>0</td>\n",
              "      <td>0.0</td>\n",
              "      <td>0</td>\n",
              "    </tr>\n",
              "  </tbody>\n",
              "</table>\n",
              "<p>420 rows × 20 columns</p>\n",
              "</div>\n",
              "      <button class=\"colab-df-convert\" onclick=\"convertToInteractive('df-7b076b37-bf1f-498a-9d63-9a1c512fc456')\"\n",
              "              title=\"Convert this dataframe to an interactive table.\"\n",
              "              style=\"display:none;\">\n",
              "\n",
              "  <svg xmlns=\"http://www.w3.org/2000/svg\" height=\"24px\"viewBox=\"0 0 24 24\"\n",
              "       width=\"24px\">\n",
              "    <path d=\"M0 0h24v24H0V0z\" fill=\"none\"/>\n",
              "    <path d=\"M18.56 5.44l.94 2.06.94-2.06 2.06-.94-2.06-.94-.94-2.06-.94 2.06-2.06.94zm-11 1L8.5 8.5l.94-2.06 2.06-.94-2.06-.94L8.5 2.5l-.94 2.06-2.06.94zm10 10l.94 2.06.94-2.06 2.06-.94-2.06-.94-.94-2.06-.94 2.06-2.06.94z\"/><path d=\"M17.41 7.96l-1.37-1.37c-.4-.4-.92-.59-1.43-.59-.52 0-1.04.2-1.43.59L10.3 9.45l-7.72 7.72c-.78.78-.78 2.05 0 2.83L4 21.41c.39.39.9.59 1.41.59.51 0 1.02-.2 1.41-.59l7.78-7.78 2.81-2.81c.8-.78.8-2.07 0-2.86zM5.41 20L4 18.59l7.72-7.72 1.47 1.35L5.41 20z\"/>\n",
              "  </svg>\n",
              "      </button>\n",
              "\n",
              "\n",
              "\n",
              "    <div id=\"df-97db83af-ba49-4107-a1db-51d9234da200\">\n",
              "      <button class=\"colab-df-quickchart\" onclick=\"quickchart('df-97db83af-ba49-4107-a1db-51d9234da200')\"\n",
              "              title=\"Suggest charts.\"\n",
              "              style=\"display:none;\">\n",
              "\n",
              "<svg xmlns=\"http://www.w3.org/2000/svg\" height=\"24px\"viewBox=\"0 0 24 24\"\n",
              "     width=\"24px\">\n",
              "    <g>\n",
              "        <path d=\"M19 3H5c-1.1 0-2 .9-2 2v14c0 1.1.9 2 2 2h14c1.1 0 2-.9 2-2V5c0-1.1-.9-2-2-2zM9 17H7v-7h2v7zm4 0h-2V7h2v10zm4 0h-2v-4h2v4z\"/>\n",
              "    </g>\n",
              "</svg>\n",
              "      </button>\n",
              "    </div>\n",
              "\n",
              "<style>\n",
              "  .colab-df-quickchart {\n",
              "    background-color: #E8F0FE;\n",
              "    border: none;\n",
              "    border-radius: 50%;\n",
              "    cursor: pointer;\n",
              "    display: none;\n",
              "    fill: #1967D2;\n",
              "    height: 32px;\n",
              "    padding: 0 0 0 0;\n",
              "    width: 32px;\n",
              "  }\n",
              "\n",
              "  .colab-df-quickchart:hover {\n",
              "    background-color: #E2EBFA;\n",
              "    box-shadow: 0px 1px 2px rgba(60, 64, 67, 0.3), 0px 1px 3px 1px rgba(60, 64, 67, 0.15);\n",
              "    fill: #174EA6;\n",
              "  }\n",
              "\n",
              "  [theme=dark] .colab-df-quickchart {\n",
              "    background-color: #3B4455;\n",
              "    fill: #D2E3FC;\n",
              "  }\n",
              "\n",
              "  [theme=dark] .colab-df-quickchart:hover {\n",
              "    background-color: #434B5C;\n",
              "    box-shadow: 0px 1px 3px 1px rgba(0, 0, 0, 0.15);\n",
              "    filter: drop-shadow(0px 1px 2px rgba(0, 0, 0, 0.3));\n",
              "    fill: #FFFFFF;\n",
              "  }\n",
              "</style>\n",
              "\n",
              "    <script>\n",
              "      async function quickchart(key) {\n",
              "        const containerElement = document.querySelector('#' + key);\n",
              "        const charts = await google.colab.kernel.invokeFunction(\n",
              "            'suggestCharts', [key], {});\n",
              "      }\n",
              "    </script>\n",
              "\n",
              "      <script>\n",
              "\n",
              "function displayQuickchartButton(domScope) {\n",
              "  let quickchartButtonEl =\n",
              "    domScope.querySelector('#df-97db83af-ba49-4107-a1db-51d9234da200 button.colab-df-quickchart');\n",
              "  quickchartButtonEl.style.display =\n",
              "    google.colab.kernel.accessAllowed ? 'block' : 'none';\n",
              "}\n",
              "\n",
              "        displayQuickchartButton(document);\n",
              "      </script>\n",
              "      <style>\n",
              "    .colab-df-container {\n",
              "      display:flex;\n",
              "      flex-wrap:wrap;\n",
              "      gap: 12px;\n",
              "    }\n",
              "\n",
              "    .colab-df-convert {\n",
              "      background-color: #E8F0FE;\n",
              "      border: none;\n",
              "      border-radius: 50%;\n",
              "      cursor: pointer;\n",
              "      display: none;\n",
              "      fill: #1967D2;\n",
              "      height: 32px;\n",
              "      padding: 0 0 0 0;\n",
              "      width: 32px;\n",
              "    }\n",
              "\n",
              "    .colab-df-convert:hover {\n",
              "      background-color: #E2EBFA;\n",
              "      box-shadow: 0px 1px 2px rgba(60, 64, 67, 0.3), 0px 1px 3px 1px rgba(60, 64, 67, 0.15);\n",
              "      fill: #174EA6;\n",
              "    }\n",
              "\n",
              "    [theme=dark] .colab-df-convert {\n",
              "      background-color: #3B4455;\n",
              "      fill: #D2E3FC;\n",
              "    }\n",
              "\n",
              "    [theme=dark] .colab-df-convert:hover {\n",
              "      background-color: #434B5C;\n",
              "      box-shadow: 0px 1px 3px 1px rgba(0, 0, 0, 0.15);\n",
              "      filter: drop-shadow(0px 1px 2px rgba(0, 0, 0, 0.3));\n",
              "      fill: #FFFFFF;\n",
              "    }\n",
              "  </style>\n",
              "\n",
              "      <script>\n",
              "        const buttonEl =\n",
              "          document.querySelector('#df-7b076b37-bf1f-498a-9d63-9a1c512fc456 button.colab-df-convert');\n",
              "        buttonEl.style.display =\n",
              "          google.colab.kernel.accessAllowed ? 'block' : 'none';\n",
              "\n",
              "        async function convertToInteractive(key) {\n",
              "          const element = document.querySelector('#df-7b076b37-bf1f-498a-9d63-9a1c512fc456');\n",
              "          const dataTable =\n",
              "            await google.colab.kernel.invokeFunction('convertToInteractive',\n",
              "                                                     [key], {});\n",
              "          if (!dataTable) return;\n",
              "\n",
              "          const docLinkHtml = 'Like what you see? Visit the ' +\n",
              "            '<a target=\"_blank\" href=https://colab.research.google.com/notebooks/data_table.ipynb>data table notebook</a>'\n",
              "            + ' to learn more about interactive tables.';\n",
              "          element.innerHTML = '';\n",
              "          dataTable['output_type'] = 'display_data';\n",
              "          await google.colab.output.renderOutput(dataTable, element);\n",
              "          const docLink = document.createElement('div');\n",
              "          docLink.innerHTML = docLinkHtml;\n",
              "          element.appendChild(docLink);\n",
              "        }\n",
              "      </script>\n",
              "    </div>\n",
              "  </div>\n"
            ]
          },
          "metadata": {},
          "execution_count": 8
        }
      ]
    },
    {
      "cell_type": "code",
      "source": [
        "d2.loc[d2[\"1 year follow up\"] == \"Alive\",\"Survival Duration(in months)\"]=12\n",
        "d2['Events'] = d2['1 year follow up'].str.contains('Expired').astype(int)\n"
      ],
      "metadata": {
        "id": "b1iTJzjUgBpI"
      },
      "execution_count": null,
      "outputs": []
    },
    {
      "cell_type": "code",
      "source": [
        "duration, survival_probability = kaplan_meier_estimator(d1['Events']==1, d1['Survival duration(in months)'])\n",
        "plt.figure(figsize=(8,4))\n",
        "plt.step(x=duration, y=survival_probability, where=\"post\")\n",
        "plt.ylim(0,1.1)\n",
        "plt.xlim(0,13)\n",
        "\n",
        "plt.xlabel(\"Survival time (months)\")\n",
        "plt.ylabel(\"Survival probability - NOF\")\n",
        "plt.title(\"Kaplan-Meier curve\");"
      ],
      "metadata": {
        "id": "AUo7OREfsQwt",
        "colab": {
          "base_uri": "https://localhost:8080/",
          "height": 410
        },
        "outputId": "2a7b0b93-3ab3-4c6e-f55f-aa3a3070ecaf"
      },
      "execution_count": null,
      "outputs": [
        {
          "output_type": "display_data",
          "data": {
            "text/plain": [
              "<Figure size 800x400 with 1 Axes>"
            ],
            "image/png": "[encoded data removed]"
          },
          "metadata": {}
        }
      ]
    },
    {
      "cell_type": "code",
      "source": [
        "duration2, survival_probability2 = kaplan_meier_estimator(d2['Events']==1, d2['Survival Duration(in months)'])\n",
        "plt.figure(figsize=(8,4))\n",
        "plt.step(x=duration2, y=survival_probability2, where=\"post\")\n",
        "plt.ylim(0,1.1)\n",
        "plt.xlim(0,13)\n",
        "plt.xlabel(\"Survival time (months)\")\n",
        "plt.ylabel(\"Survival probability-PF\")\n",
        "plt.title(\"Kaplan-Meier curve\");"
      ],
      "metadata": {
        "colab": {
          "base_uri": "https://localhost:8080/",
          "height": 410
        },
        "id": "xJV_bRfUgUQ4",
        "outputId": "b017ea9b-a403-4683-a95c-76d662079b43"
      },
      "execution_count": null,
      "outputs": [
        {
          "output_type": "display_data",
          "data": {
            "text/plain": [
              "<Figure size 800x400 with 1 Axes>"
            ],
            "image/png": "[encoded data removed]"
          },
          "metadata": {}
        }
      ]
    },
    {
      "cell_type": "code",
      "source": [
        "from tabulate import tabulate"
      ],
      "metadata": {
        "id": "FEHez0udtXVn"
      },
      "execution_count": null,
      "outputs": []
    },
    {
      "cell_type": "code",
      "source": [
        "data1=[]\n",
        "data2=[]\n",
        "for i in range(len(duration)):\n",
        "  data1.append([duration[i],round(survival_probability[i],3)])\n",
        "for i in range(len(duration2)):\n",
        "  data2.append([duration2[i],round(survival_probability2[i],3)])\n",
        "\n",
        "print(\"NOF\")\n",
        "print(tabulate(data1,headers=['duration','survival probability']))\n",
        "print(\"PF\")\n",
        "print(tabulate(data2,headers=['duration','survival probability']))"
      ],
      "metadata": {
        "colab": {
          "base_uri": "https://localhost:8080/"
        },
        "id": "twCBIsNotaVL",
        "outputId": "5de3b9ee-8305-4f84-9f76-9d6cf10858bf"
      },
      "execution_count": null,
      "outputs": [
        {
          "output_type": "stream",
          "name": "stdout",
          "text": [
            "NOF\n",
            "  duration    survival probability\n",
            "----------  ----------------------\n",
            "      0                      1\n",
            "      0.06                   0.979\n",
            "      0.16                   0.958\n",
            "      1                      0.917\n",
            "      4                      0.917\n",
            "     12                      0.895\n",
            "PF\n",
            "  duration    survival probability\n",
            "----------  ----------------------\n",
            "      0                      1\n",
            "      0.56                   0.98\n",
            "      1                      0.941\n",
            "      3                      0.922\n",
            "      6                      0.902\n",
            "     12                      0.882\n"
          ]
        }
      ]
    },
    {
      "cell_type": "markdown",
      "source": [
        "PART 2\n",
        "MULTIPLE REGRESSION"
      ],
      "metadata": {
        "id": "DIy2Bznh8nbg"
      }
    },
    {
      "cell_type": "code",
      "source": [
        "import seaborn as sns\n",
        "import statsmodels.api as sm\n",
        "from sklearn.model_selection import train_test_split\n",
        "from sklearn import metrics\n",
        "from sklearn.linear_model import LogisticRegression\n",
        "from sklearn.metrics import accuracy_score"
      ],
      "metadata": {
        "id": "5mXfAlUh8uqk"
      },
      "execution_count": null,
      "outputs": []
    },
    {
      "cell_type": "code",
      "source": [
        "d1['DM'] = d1['Comorbidities'].str.contains('DM').astype(int)\n",
        "d1['HTN'] = d1['Comorbidities'].str.contains('HTN').astype(int)\n",
        "d1['IHD'] = d1['Comorbidities'].str.contains('IHD').astype(int)\n",
        "d1['CKD'] = d1['Comorbidities'].str.contains('CKD').astype(int)\n",
        "d1['CLD'] = d1['Comorbidities'].str.contains('CLD').astype(int)\n",
        "d1['BA'] = d1['Comorbidities'].str.contains('BA').astype(int)\n",
        "\n",
        "d1['duration'] = np.where(((d1['Interval between injury and presentation']+\\\n",
        "                           d1['Interval between presentation and surgery']<=2)\\\n",
        "                           & (d1['Interval between injury and presentation']+\\\n",
        "                               d1['Interval between presentation and surgery']>0)), 0, 1)\n"
      ],
      "metadata": {
        "id": "EBfQVXqg8xqv"
      },
      "execution_count": null,
      "outputs": []
    },
    {
      "cell_type": "code",
      "source": [
        "\n",
        "\n",
        "x = d1[['DM','IHD','HTN']]\n",
        "y = d1['Events']\n",
        "\n",
        "X_train, X_test, y_train, y_test = train_test_split(x, y,test_size=0.20,random_state=100)\n",
        "\n",
        "clf = LogisticRegression(random_state=0)\n",
        "clf.fit(X_train, y_train)\n",
        "\n",
        "y_pred = clf.predict(X_test)\n",
        "coef= clf.coef_[0]\n",
        "var=['DM','IHD','HTN']\n"
      ],
      "metadata": {
        "id": "kKJarM3UIlee"
      },
      "execution_count": null,
      "outputs": []
    },
    {
      "cell_type": "code",
      "source": [
        "\n",
        "acc = accuracy_score(y_test, y_pred)\n",
        "meanAbErr = metrics.mean_absolute_error(y_test, y_pred)\n",
        "meanSqErr = metrics.mean_squared_error(y_test, y_pred)\n",
        "rootMeanSqErr = np.sqrt(metrics.mean_squared_error(y_test, y_pred))\n",
        "print('R squared: {:.2f}'.format(acc*100))\n",
        "print('Mean Absolute Error:', meanAbErr)\n",
        "print('Mean Square Error:', meanSqErr)\n",
        "print('Root Mean Square Error:', rootMeanSqErr)"
      ],
      "metadata": {
        "colab": {
          "base_uri": "https://localhost:8080/"
        },
        "id": "sIJ15TGHEK0l",
        "outputId": "0b4d439a-a048-4726-feb9-29babeb5970d"
      },
      "execution_count": null,
      "outputs": [
        {
          "output_type": "stream",
          "name": "stdout",
          "text": [
            "R squared: 100.00\n",
            "Mean Absolute Error: 0.0\n",
            "Mean Square Error: 0.0\n",
            "Root Mean Square Error: 0.0\n"
          ]
        }
      ]
    },
    {
      "cell_type": "code",
      "source": [
        "# new_record=[[1,1,1,1,0,0]]\n",
        "# prediction = clf.predict(new_record)\n",
        "\n",
        "# print(\"Predicted Outcome:\", prediction)"
      ],
      "metadata": {
        "id": "rUu-SbmwytSr"
      },
      "execution_count": null,
      "outputs": []
    },
    {
      "cell_type": "code",
      "source": [
        "\n",
        "X = sm.add_constant(x)\n",
        "\n",
        "logit_model = sm.Logit(y, x)\n",
        "result = logit_model.fit(method='bfgs',maxiter=1000)\n",
        "\n",
        "p_values = result.pvalues\n",
        "\n",
        "print(\"P-values:\",\"\\n\", p_values)\n",
        "print(\"\\nSignificance values:\\n\",-np.log10(p_values))\n",
        "\n",
        "\n",
        "plt.bar(range(len(p_values)), -np.log10(p_values))\n",
        "plt.xlabel('Coefficients')\n",
        "plt.ylabel('Significance [-log10(p-value)]')\n",
        "plt.title('Significance of Coefficients - NOF')\n",
        "plt.xticks(range(len(p_values)), x.columns)\n",
        "plt.show()"
      ],
      "metadata": {
        "colab": {
          "base_uri": "https://localhost:8080/",
          "height": 750
        },
        "id": "Yvb0Ds0V10P7",
        "outputId": "e28c65e2-ee53-4e0e-ac46-ca97f2a38e79"
      },
      "execution_count": null,
      "outputs": [
        {
          "output_type": "stream",
          "name": "stdout",
          "text": [
            "Optimization terminated successfully.\n",
            "         Current function value: 0.661732\n",
            "         Iterations: 26\n",
            "         Function evaluations: 29\n",
            "         Gradient evaluations: 29\n",
            "P-values: \n",
            " DM     0.070710\n",
            "IHD    0.419210\n",
            "HTN    0.005578\n",
            "dtype: float64\n",
            "\n",
            "Significance values:\n",
            " DM     1.150521\n",
            "IHD    0.377568\n",
            "HTN    2.253548\n",
            "dtype: float64\n"
          ]
        },
        {
          "output_type": "display_data",
          "data": {
            "text/plain": [
              "<Figure size 640x480 with 1 Axes>"
            ],
            "image/png": "[encoded data removed]"
          },
          "metadata": {}
        }
      ]
    },
    {
      "cell_type": "markdown",
      "source": [
        "# New Section"
      ],
      "metadata": {
        "id": "3JDKvpbQ5bSR"
      }
    },
    {
      "cell_type": "code",
      "source": [
        "counts = d1.groupby(['duration', 'Events']).size().unstack()\n",
        "\n",
        "ax=counts.plot(kind='bar',stacked=True)\n",
        "\n",
        "# Set the plot labels and title\n",
        "plt.xlabel('Duration')\n",
        "plt.ylabel('Count')\n",
        "plt.title('Dependency between Duration and Survival')\n",
        "ax.set_xticklabels(['Duration<=48 hours', 'Duration>48 hrs'])\n",
        "# Show the plot\n",
        "plt.show()"
      ],
      "metadata": {
        "colab": {
          "base_uri": "https://localhost:8080/",
          "height": 602
        },
        "id": "7aPkDAiy_JSe",
        "outputId": "2aec108e-7518-4b9a-8564-7719a6327b25"
      },
      "execution_count": null,
      "outputs": [
        {
          "output_type": "display_data",
          "data": {
            "text/plain": [
              "<Figure size 640x480 with 1 Axes>"
            ],
            "image/png": "[encoded data removed]"
          },
          "metadata": {}
        }
      ]
    },
    {
      "cell_type": "markdown",
      "source": [
        "PF - REGRESSION\n"
      ],
      "metadata": {
        "id": "1PpluyQePTY9"
      }
    },
    {
      "cell_type": "code",
      "source": [
        "d2['DM'] = d2['Comorbidities'].str.contains('DM').astype(int)\n",
        "d2['HTN'] = d2['Comorbidities'].str.contains('HTN').astype(int)\n",
        "d2['IHD'] = d2['Comorbidities'].str.contains('IHD').astype(int)\n",
        "d2['CKD'] = d2['Comorbidities'].str.contains('CKD').astype(int)\n",
        "d2['CLD'] = d2['Comorbidities'].str.contains('CLD').astype(int)\n",
        "d2['BA'] = d2['Comorbidities'].str.contains('BA').astype(int)\n",
        "\n",
        "d2['duration'] = np.where(((d2['Interval between injury and presentation']+\\\n",
        "                           d2['Interval between presentation and surgery']<=2)\\\n",
        "                           & (d2['Interval between injury and presentation']+\\\n",
        "                               d2['Interval between presentation and surgery']>0)), 0, 1)"
      ],
      "metadata": {
        "id": "Jz0FsuYyPVUl"
      },
      "execution_count": null,
      "outputs": []
    },
    {
      "cell_type": "code",
      "source": [
        "\n",
        "x = d2[['DM','IHD','HTN']]\n",
        "y = d2['Events']\n",
        "\n",
        "X_train, X_test, y_train, y_test = train_test_split(x, y,test_size=0.20,random_state=100)\n",
        "\n",
        "clf = LogisticRegression(random_state=0)\n",
        "clf.fit(X_train, y_train)\n",
        "\n",
        "y_pred = clf.predict(X_test)\n",
        "coef= clf.coef_[0]\n",
        "var=['DM','IHD','HTN']"
      ],
      "metadata": {
        "id": "7DsvvE6XPZ2k"
      },
      "execution_count": null,
      "outputs": []
    },
    {
      "cell_type": "code",
      "source": [
        "acc = accuracy_score(y_test, y_pred)\n",
        "meanAbErr = metrics.mean_absolute_error(y_test, y_pred)\n",
        "meanSqErr = metrics.mean_squared_error(y_test, y_pred)\n",
        "rootMeanSqErr = np.sqrt(metrics.mean_squared_error(y_test, y_pred))\n",
        "print('R squared: {:.2f}'.format(acc*100))\n",
        "print('Mean Absolute Error:', meanAbErr)\n",
        "print('Mean Square Error:', meanSqErr)\n",
        "print('Root Mean Square Error:', rootMeanSqErr)"
      ],
      "metadata": {
        "colab": {
          "base_uri": "https://localhost:8080/"
        },
        "id": "ZDoKv5mnPf3c",
        "outputId": "24afbedc-423e-4d49-80e7-eaf581c99d69"
      },
      "execution_count": null,
      "outputs": [
        {
          "output_type": "stream",
          "name": "stdout",
          "text": [
            "R squared: 100.00\n",
            "Mean Absolute Error: 0.0\n",
            "Mean Square Error: 0.0\n",
            "Root Mean Square Error: 0.0\n"
          ]
        }
      ]
    },
    {
      "cell_type": "code",
      "source": [
        "new_record=[[1,0,0]]\n",
        "prediction = clf.predict(new_record)\n",
        "\n",
        "print(\"Predicted Outcome:\", prediction)"
      ],
      "metadata": {
        "colab": {
          "base_uri": "https://localhost:8080/"
        },
        "id": "1377JJIcPkwd",
        "outputId": "4722fec1-9062-4b2c-872e-1b6daac2956e"
      },
      "execution_count": null,
      "outputs": [
        {
          "output_type": "stream",
          "name": "stdout",
          "text": [
            "Predicted Outcome: [0]\n"
          ]
        },
        {
          "output_type": "stream",
          "name": "stderr",
          "text": [
            "/usr/local/lib/python3.10/dist-packages/sklearn/base.py:439: UserWarning: X does not have valid feature names, but LogisticRegression was fitted with feature names\n",
            "  warnings.warn(\n"
          ]
        }
      ]
    },
    {
      "cell_type": "code",
      "source": [
        "\n",
        "X = sm.add_constant(x)\n",
        "\n",
        "logit_model = sm.Logit(y, x)\n",
        "result = logit_model.fit(method='cg',maxiter=1000)\n",
        "\n",
        "p_values = result.pvalues\n",
        "\n",
        "print(\"P-values:\",\"\\n\", p_values)\n",
        "print(\"\\nSignificance values:\\n\",-np.log10(p_values))\n",
        "\n",
        "\n",
        "plt.bar(range(len(p_values)), -np.log10(p_values))\n",
        "plt.xlabel('Coefficients')\n",
        "plt.ylabel('Significance [-log10(p-value)]')\n",
        "plt.title('Significance of Coefficients - PF')\n",
        "plt.xticks(range(len(p_values)), x.columns)\n",
        "plt.show()"
      ],
      "metadata": {
        "colab": {
          "base_uri": "https://localhost:8080/",
          "height": 750
        },
        "id": "UumIK9nKPpk9",
        "outputId": "e6ba7de5-fad6-4996-8f2d-1da8679c1276"
      },
      "execution_count": null,
      "outputs": [
        {
          "output_type": "stream",
          "name": "stdout",
          "text": [
            "Optimization terminated successfully.\n",
            "         Current function value: 0.679584\n",
            "         Iterations: 19\n",
            "         Function evaluations: 112\n",
            "         Gradient evaluations: 112\n",
            "P-values: \n",
            " DM     0.136719\n",
            "IHD    0.816574\n",
            "HTN    0.108700\n",
            "dtype: float64\n",
            "\n",
            "Significance values:\n",
            " DM     0.864173\n",
            "IHD    0.088004\n",
            "HTN    0.963772\n",
            "dtype: float64\n"
          ]
        },
        {
          "output_type": "display_data",
          "data": {
            "text/plain": [
              "<Figure size 640x480 with 1 Axes>"
            ],
            "image/png": "[encoded data removed]"
          },
          "metadata": {}
        }
      ]
    },
    {
      "cell_type": "code",
      "source": [
        "counts = d2.groupby(['duration', 'Events']).size().unstack()\n",
        "\n",
        "ax=counts.plot(kind='bar',stacked=True)\n",
        "\n",
        "# Set the plot labels and title\n",
        "plt.xlabel('Duration')\n",
        "plt.ylabel('Count')\n",
        "plt.title('Dependency between Duration and Survival(PF)')\n",
        "ax.set_xticklabels(['Duration<=48 hours', 'Duration>48 hrs'])\n",
        "# Show the plot\n",
        "plt.show()"
      ],
      "metadata": {
        "colab": {
          "base_uri": "https://localhost:8080/",
          "height": 602
        },
        "id": "WEKJtUQnSI2F",
        "outputId": "e58fbbd4-ca5b-49a9-c239-cbd71ae77bb5"
      },
      "execution_count": null,
      "outputs": [
        {
          "output_type": "display_data",
          "data": {
            "text/plain": [
              "<Figure size 640x480 with 1 Axes>"
            ],
            "image/png": "[encoded data removed]"
          },
          "metadata": {}
        }
      ]
    },
    {
      "cell_type": "code",
      "source": [
        "print(\"No. of females(NOF)\",(d1['S'][d1['Follow up at 1 year'].str.lower().str.contains('expired') | d1['Follow up at 1 year'].str.lower().str.contains('alive')] == 'F').sum())\n",
        "print(\"No. of males(NOF)\",(d1['S'][d1['Follow up at 1 year'].str.lower().str.contains('expired') | d1['Follow up at 1 year'].str.lower().str.contains('alive')] == 'M').sum())\n",
        "print(\"Average age\",73.82)"
      ],
      "metadata": {
        "colab": {
          "base_uri": "https://localhost:8080/"
        },
        "id": "tpp1z-BmSfkt",
        "outputId": "58ba406c-9978-487f-9300-2cc86369319f"
      },
      "execution_count": null,
      "outputs": [
        {
          "output_type": "stream",
          "name": "stdout",
          "text": [
            "No. of females(NOF) 30\n",
            "No. of males(NOF) 22\n",
            "Average age 73.82\n"
          ]
        }
      ]
    },
    {
      "cell_type": "code",
      "source": [
        "print(\"No. of females(PF)\",(d2['S'][d2['1 year follow up'].str.lower().str.contains('expired') | d2['1 year follow up'].str.lower().str.contains('alive')] == 'F').sum())\n",
        "print(\"No. of males(PF)\",(d2['S'][d2['1 year follow up'].str.lower().str.contains('expired') | d2['1 year follow up'].str.lower().str.contains('alive')] == 'M').sum())\n",
        "print(\"Average age: 75.06\")"
      ],
      "metadata": {
        "colab": {
          "base_uri": "https://localhost:8080/"
        },
        "id": "XnbLylrjUNRW",
        "outputId": "e0065718-9217-403d-d310-6d7e1d1754a3"
      },
      "execution_count": null,
      "outputs": [
        {
          "output_type": "stream",
          "name": "stdout",
          "text": [
            "No. of females(PF) 22\n",
            "No. of males(PF) 29\n",
            "Average age: 75.06\n"
          ]
        }
      ]
    }
  ]
}